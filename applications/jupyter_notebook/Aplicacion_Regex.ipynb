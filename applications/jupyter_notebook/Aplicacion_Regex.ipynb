{
 "cells": [
  {
   "cell_type": "code",
   "execution_count": 8,
   "id": "b882f5e7-cf71-42c0-b149-e580d4af3595",
   "metadata": {
    "tags": []
   },
   "outputs": [],
   "source": [
    "from pyspark.sql import SparkSession\n",
    "import pyspark.sql.functions as F"
   ]
  },
  {
   "cell_type": "code",
   "execution_count": 2,
   "id": "2e89675d-90fe-476d-9427-f012f0ab0c25",
   "metadata": {
    "tags": []
   },
   "outputs": [],
   "source": [
    "spark = SparkSession.builder.appName(\"engine\").getOrCreate()"
   ]
  },
  {
   "cell_type": "code",
   "execution_count": 5,
   "id": "7ffc842e-5ad5-4222-b2f1-7aa3990ba12f",
   "metadata": {
    "tags": []
   },
   "outputs": [],
   "source": [
    "df_spark = spark.read.csv(\"TBL_MAINTENANCE.csv\",header=True,inferSchema=True)"
   ]
  },
  {
   "cell_type": "code",
   "execution_count": 12,
   "id": "9241c70c-afc8-4a7e-a69e-ecaac2aa8167",
   "metadata": {
    "tags": []
   },
   "outputs": [
    {
     "name": "stdout",
     "output_type": "stream",
     "text": [
      "+--------+-----------+--------------+-------+----------+-----------------+------+\n",
      "|stock_id|estimate_id|maintenance_id|type_id|package_id|price_maintenance| regex|\n",
      "+--------+-----------+--------------+-------+----------+-----------------+------+\n",
      "|  @15021|          0|         31109|      3|        82|              0.0| 15021|\n",
      "|   23733|          0|         34809|      1|       200|           2299.0| 23733|\n",
      "|   39363|          0|         34737|      6|        71|              0.0| 39363|\n",
      "|    3112|          0|         31811|      1|       200|           2199.0|  3112|\n",
      "|   20061|          0|         32147|      6|       200|           1250.0| 20061|\n",
      "|  100197|    8848023|         38654|      2|       200|            550.0|100197|\n",
      "|   20276|          0|         31734|      6|        71|              0.0| 20276|\n",
      "|   15351|          0|         36220|      6|       200|            650.0| 15351|\n",
      "|   38030|          0|         33803|      6|        78|              0.0| 38030|\n",
      "|  103849|   10170732|         38532|      6|        78|              0.0|103849|\n",
      "|   24550|          0|         33328|      6|        78|              0.0| 24550|\n",
      "|   29495|          0|         33715|      6|       200|           1100.0| 29495|\n",
      "|   21991|          0|         31998|      6|        96|              0.0| 21991|\n",
      "|   40271|    5803982|         37979|      6|       200|           1599.0| 40271|\n",
      "|   29076|          0|         32313|      6|       200|           1350.0| 29076|\n",
      "|   35743|          0|         33576|      6|        81|              0.0| 35743|\n",
      "|  112281|   11668107|         38515|      3|       200|           2199.0|112281|\n",
      "|  101624|          0|         35981|      6|       200|            900.0|101624|\n",
      "|   30538|          0|         35777|      6|       200|            650.0| 30538|\n",
      "|   15173|          0|         36210|      1|       200|           2149.0| 15173|\n",
      "+--------+-----------+--------------+-------+----------+-----------------+------+\n",
      "only showing top 20 rows\n",
      "\n"
     ]
    }
   ],
   "source": [
    "df_spark.withColumn(\"regex\",F.regexp_replace('stock_id', r'[^A-Za-z0-9]+', '')).show()"
   ]
  },
  {
   "cell_type": "code",
   "execution_count": null,
   "id": "da402eb3-db64-4a71-bbe0-8f37defd0e75",
   "metadata": {},
   "outputs": [],
   "source": []
  }
 ],
 "metadata": {
  "kernelspec": {
   "display_name": "Python 3 (ipykernel)",
   "language": "python",
   "name": "python3"
  },
  "language_info": {
   "codemirror_mode": {
    "name": "ipython",
    "version": 3
   },
   "file_extension": ".py",
   "mimetype": "text/x-python",
   "name": "python",
   "nbconvert_exporter": "python",
   "pygments_lexer": "ipython3",
   "version": "3.10.9"
  }
 },
 "nbformat": 4,
 "nbformat_minor": 5
}
