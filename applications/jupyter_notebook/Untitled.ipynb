{
 "cells": [
  {
   "cell_type": "code",
   "execution_count": 8,
   "id": "23bfe3c2-ef21-422a-9a5a-9c5d3f03bf49",
   "metadata": {
    "tags": []
   },
   "outputs": [],
   "source": [
    "from pyspark.sql import SparkSession\n",
    "import pyspark.sql.types as T\n",
    "import pyspark.sql.functions as F"
   ]
  },
  {
   "cell_type": "code",
   "execution_count": 3,
   "id": "63919a4c-4f26-4892-b275-0de5097cf0a7",
   "metadata": {
    "tags": []
   },
   "outputs": [],
   "source": [
    "spark = SparkSession.builder.appName(\"engine\").getOrCreate()"
   ]
  },
  {
   "cell_type": "code",
   "execution_count": 5,
   "id": "410a6aa6-1329-452f-b22f-76c26a6e541f",
   "metadata": {
    "tags": []
   },
   "outputs": [],
   "source": [
    "df_spark = spark.read.csv(\"TBL_MAINTENANCE.csv\",header=True,inferSchema=True)"
   ]
  },
  {
   "cell_type": "code",
   "execution_count": 6,
   "id": "232cec7a-5c6a-4673-b745-d46d9a09bf16",
   "metadata": {
    "tags": []
   },
   "outputs": [
    {
     "name": "stdout",
     "output_type": "stream",
     "text": [
      "root\n",
      " |-- stock_id: string (nullable = true)\n",
      " |-- estimate_id: integer (nullable = true)\n",
      " |-- maintenance_id: integer (nullable = true)\n",
      " |-- type_id: integer (nullable = true)\n",
      " |-- package_id: integer (nullable = true)\n",
      " |-- price_maintenance: double (nullable = true)\n",
      "\n"
     ]
    }
   ],
   "source": [
    "df_spark.printSchema()"
   ]
  },
  {
   "cell_type": "code",
   "execution_count": 7,
   "id": "b4d81674-5670-4509-9263-6871e106ba7a",
   "metadata": {
    "tags": []
   },
   "outputs": [
    {
     "name": "stdout",
     "output_type": "stream",
     "text": [
      "+--------+-----------+--------------+-------+----------+-----------------+\n",
      "|stock_id|estimate_id|maintenance_id|type_id|package_id|price_maintenance|\n",
      "+--------+-----------+--------------+-------+----------+-----------------+\n",
      "|  @15021|          0|         31109|      3|        82|              0.0|\n",
      "|   23733|          0|         34809|      1|       200|           2299.0|\n",
      "|   39363|          0|         34737|      6|        71|              0.0|\n",
      "|    3112|          0|         31811|      1|       200|           2199.0|\n",
      "|   20061|          0|         32147|      6|       200|           1250.0|\n",
      "|  100197|    8848023|         38654|      2|       200|            550.0|\n",
      "|   20276|          0|         31734|      6|        71|              0.0|\n",
      "|   15351|          0|         36220|      6|       200|            650.0|\n",
      "|   38030|          0|         33803|      6|        78|              0.0|\n",
      "|  103849|   10170732|         38532|      6|        78|              0.0|\n",
      "|   24550|          0|         33328|      6|        78|              0.0|\n",
      "|   29495|          0|         33715|      6|       200|           1100.0|\n",
      "|   21991|          0|         31998|      6|        96|              0.0|\n",
      "|   40271|    5803982|         37979|      6|       200|           1599.0|\n",
      "|   29076|          0|         32313|      6|       200|           1350.0|\n",
      "|   35743|          0|         33576|      6|        81|              0.0|\n",
      "|  112281|   11668107|         38515|      3|       200|           2199.0|\n",
      "|  101624|          0|         35981|      6|       200|            900.0|\n",
      "|   30538|          0|         35777|      6|       200|            650.0|\n",
      "|   15173|          0|         36210|      1|       200|           2149.0|\n",
      "+--------+-----------+--------------+-------+----------+-----------------+\n",
      "only showing top 20 rows\n",
      "\n"
     ]
    }
   ],
   "source": [
    "df_spark.show()"
   ]
  },
  {
   "cell_type": "code",
   "execution_count": 10,
   "id": "ce7a661e-39f1-426e-b8ee-7344adf75f03",
   "metadata": {
    "tags": []
   },
   "outputs": [],
   "source": [
    "df_spark = df_spark.withColumn(\"stock_id\",F.regexp_replace('stock_id', r'[^A-Za-z0-9]+', ''))"
   ]
  },
  {
   "cell_type": "code",
   "execution_count": 11,
   "id": "038d391e-9c14-448c-b34a-af360e4b1d29",
   "metadata": {
    "tags": []
   },
   "outputs": [
    {
     "name": "stdout",
     "output_type": "stream",
     "text": [
      "root\n",
      " |-- stock_id: string (nullable = true)\n",
      " |-- estimate_id: integer (nullable = true)\n",
      " |-- maintenance_id: integer (nullable = true)\n",
      " |-- type_id: integer (nullable = true)\n",
      " |-- package_id: integer (nullable = true)\n",
      " |-- price_maintenance: double (nullable = true)\n",
      "\n"
     ]
    }
   ],
   "source": [
    "df_spark.printSchema()"
   ]
  },
  {
   "cell_type": "code",
   "execution_count": 12,
   "id": "31946749-4342-40ca-a552-dd65724650be",
   "metadata": {
    "tags": []
   },
   "outputs": [
    {
     "name": "stdout",
     "output_type": "stream",
     "text": [
      "+--------+-----------+--------------+-------+----------+-----------------+\n",
      "|stock_id|estimate_id|maintenance_id|type_id|package_id|price_maintenance|\n",
      "+--------+-----------+--------------+-------+----------+-----------------+\n",
      "|   15021|          0|         31109|      3|        82|              0.0|\n",
      "|   23733|          0|         34809|      1|       200|           2299.0|\n",
      "|   39363|          0|         34737|      6|        71|              0.0|\n",
      "|    3112|          0|         31811|      1|       200|           2199.0|\n",
      "|   20061|          0|         32147|      6|       200|           1250.0|\n",
      "|  100197|    8848023|         38654|      2|       200|            550.0|\n",
      "|   20276|          0|         31734|      6|        71|              0.0|\n",
      "|   15351|          0|         36220|      6|       200|            650.0|\n",
      "|   38030|          0|         33803|      6|        78|              0.0|\n",
      "|  103849|   10170732|         38532|      6|        78|              0.0|\n",
      "|   24550|          0|         33328|      6|        78|              0.0|\n",
      "|   29495|          0|         33715|      6|       200|           1100.0|\n",
      "|   21991|          0|         31998|      6|        96|              0.0|\n",
      "|   40271|    5803982|         37979|      6|       200|           1599.0|\n",
      "|   29076|          0|         32313|      6|       200|           1350.0|\n",
      "|   35743|          0|         33576|      6|        81|              0.0|\n",
      "|  112281|   11668107|         38515|      3|       200|           2199.0|\n",
      "|  101624|          0|         35981|      6|       200|            900.0|\n",
      "|   30538|          0|         35777|      6|       200|            650.0|\n",
      "|   15173|          0|         36210|      1|       200|           2149.0|\n",
      "+--------+-----------+--------------+-------+----------+-----------------+\n",
      "only showing top 20 rows\n",
      "\n"
     ]
    }
   ],
   "source": [
    "df_spark.show()"
   ]
  },
  {
   "cell_type": "code",
   "execution_count": 13,
   "id": "72270a4e-3879-4fa5-a9b2-a2f231bf9e88",
   "metadata": {
    "tags": []
   },
   "outputs": [],
   "source": [
    "df_spark = df_spark.withColumn(\"stock_id\",F.col(\"stock_id\").cast(T.IntegerType()))"
   ]
  },
  {
   "cell_type": "code",
   "execution_count": 14,
   "id": "b1085caf-8a54-4225-b6c0-1dc2a20f6f63",
   "metadata": {
    "tags": []
   },
   "outputs": [
    {
     "name": "stdout",
     "output_type": "stream",
     "text": [
      "root\n",
      " |-- stock_id: integer (nullable = true)\n",
      " |-- estimate_id: integer (nullable = true)\n",
      " |-- maintenance_id: integer (nullable = true)\n",
      " |-- type_id: integer (nullable = true)\n",
      " |-- package_id: integer (nullable = true)\n",
      " |-- price_maintenance: double (nullable = true)\n",
      "\n"
     ]
    }
   ],
   "source": [
    "df_spark.printSchema()"
   ]
  },
  {
   "cell_type": "code",
   "execution_count": null,
   "id": "01948bbc-e059-4db5-8e7c-44c1199ed030",
   "metadata": {},
   "outputs": [],
   "source": []
  }
 ],
 "metadata": {
  "kernelspec": {
   "display_name": "Python 3 (ipykernel)",
   "language": "python",
   "name": "python3"
  },
  "language_info": {
   "codemirror_mode": {
    "name": "ipython",
    "version": 3
   },
   "file_extension": ".py",
   "mimetype": "text/x-python",
   "name": "python",
   "nbconvert_exporter": "python",
   "pygments_lexer": "ipython3",
   "version": "3.10.9"
  }
 },
 "nbformat": 4,
 "nbformat_minor": 5
}
